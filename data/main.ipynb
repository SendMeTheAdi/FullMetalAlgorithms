{
 "cells": [
  {
   "cell_type": "code",
   "execution_count": 45,
   "metadata": {},
   "outputs": [],
   "source": [
    "import pandas as pd\n",
    "import matplotlib.pyplot as plt"
   ]
  },
  {
   "cell_type": "code",
   "execution_count": 53,
   "metadata": {},
   "outputs": [],
   "source": [
    "df_firm_employment_size = pd.read_csv('firm_employment_size.csv')\n",
    "df_firm_statistics = pd.read_csv('firms_statistics.csv')\n",
    "df_years_in_business = pd.read_csv('years_in_business.csv')\n",
    "to_drop = [x for x in df_firm_employment_size if '_F' in x or '_S' in x]"
   ]
  },
  {
   "attachments": {},
   "cell_type": "markdown",
   "metadata": {},
   "source": [
    "# ETL Process\n",
    "We created a list -=>\n",
    "` to_drop = [x for x in df_firm_employment_size if '_F' in x or '_S' in x]`\n",
    "and used it to find the colums we wanted to remove from each csv."
   ]
  },
  {
   "cell_type": "code",
   "execution_count": 65,
   "metadata": {},
   "outputs": [],
   "source": [
    "# df_firm_employment_size.drop(to_drop, inplace=True, axis=1)\n",
    "# df_firm_statistics.drop(to_drop, inplace=True, axis=1)\n",
    "# df_years_in_business.drop(to_drop, inplace=True, axis=1)\n"
   ]
  },
  {
   "attachments": {},
   "cell_type": "markdown",
   "metadata": {},
   "source": [
    "# Updating The Csvs\n",
    "We took the new csvs without the extra columns and updated the originals to be able to push to git."
   ]
  },
  {
   "cell_type": "code",
   "execution_count": 71,
   "metadata": {},
   "outputs": [],
   "source": [
    "# df_firm_employment_size.to_csv('firm_employment_size.csv')\n",
    "# df_firm_statistics.to_csv('firms_statistics.csv')\n",
    "# df_years_in_business.to_csv('years_in_business.csv')"
   ]
  }
 ],
 "metadata": {
  "kernelspec": {
   "display_name": "Python 3",
   "language": "python",
   "name": "python3"
  },
  "language_info": {
   "codemirror_mode": {
    "name": "ipython",
    "version": 3
   },
   "file_extension": ".py",
   "mimetype": "text/x-python",
   "name": "python",
   "nbconvert_exporter": "python",
   "pygments_lexer": "ipython3",
   "version": "3.11.1"
  },
  "orig_nbformat": 4
 },
 "nbformat": 4,
 "nbformat_minor": 2
}
