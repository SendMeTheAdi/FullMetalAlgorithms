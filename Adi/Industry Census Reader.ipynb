{
 "cells": [
  {
   "cell_type": "code",
   "execution_count": 5,
   "id": "2781471a",
   "metadata": {},
   "outputs": [],
   "source": [
    "import pandas as pd\n",
    "from bs4 import BeautifulSoup\n",
    "import requests"
   ]
  },
  {
   "cell_type": "code",
   "execution_count": 10,
   "id": "2749b3bd",
   "metadata": {},
   "outputs": [],
   "source": [
    "# remove GEO_ID, NAME, NAICS2017, SEX, ETH_GROUP, RACE_GROUP, VET_GROUP\n",
    "website = 'https://api.census.gov/data/2018/abscs?get=NAICS2017_LABEL,SEX_LABEL,ETH_GROUP_LABEL,RACE_GROUP_LABEL,VET_GROUP_LABEL,EMPSZFI,EMPSZFI_LABEL,YEAR,FIRMPDEMP,FIRMPDEMP_F,RCPPDEMP,RCPPDEMP_F,EMP,EMP_F,PAYANN,PAYANN_F,FIRMPDEMP_S,FIRMPDEMP_S_F,RCPPDEMP_S,RCPPDEMP_S_F,EMP_S,EMP_S_F,PAYANN_S,PAYANN_S_F&for=us:*'"
   ]
  },
  {
   "cell_type": "code",
   "execution_count": 11,
   "id": "ba930332",
   "metadata": {},
   "outputs": [
    {
     "name": "stdout",
     "output_type": "stream",
     "text": [
      "<bound method Tag.prettify of [[\"NAICS2017_LABEL\",\"SEX_LABEL\",\"ETH_GROUP_LABEL\",\"RACE_GROUP_LABEL\",\"VET_GROUP_LABEL\",\"EMPSZFI\",\"EMPSZFI_LABEL\",\"YEAR\",\"FIRMPDEMP\",\"FIRMPDEMP_F\",\"RCPPDEMP\",\"RCPPDEMP_F\",\"EMP\",\"EMP_F\",\"PAYANN\",\"PAYANN_F\",\"FIRMPDEMP_S\",\"FIRMPDEMP_S_F\",\"RCPPDEMP_S\",\"RCPPDEMP_S_F\",\"EMP_S\",\"EMP_S_F\",\"PAYANN_S\",\"PAYANN_S_F\",\"us\"],\n",
      "[\"Total for all sectors\",\"Total\",\"Total\",\"Total\",\"Total\",\"001\",\"All firms\",\"2018\",\"5722142\",null,\"38405539368\",null,\"128196406\",null,\"6937240308\",null,\"0.0\",null,\"1.2\",null,\"0.5\",null,\"0.5\",null,\"1\"],\n",
      "[\"Total for all sectors\",\"Total\",\"Total\",\"Total\",\"Total\",\"611\",\"Firms with no employees\",\"2018\",\"711493\",null,\"325046053\",null,\"0\",null,\"49465824\",null,\"0.8\",null,\"4.4\",null,\"0.0\",null,\"2.8\",null,\"1\"],\n",
      "[\"Total for all sectors\",\"Total\",\"Total\",\"Total\",\"Total\",\"612\",\"Firms with 1 to 4 employees\",\"2018\",\"2810033\",null,\"1247506977\",null,\"5612254\",null,\"225973662\",null,\"0.2\",null,\"0.5\",null,\"0.3\",null,\"1.0\",null,\"1\"],\n",
      "[\"Total for all sectors\",\"Total\",\"Total\",\"Total\",\"Total\",\"620\",\"Firms with 5 to 9 employees\",\"2018\",\"948936\",null,\"1071154479\",null,\"6265576\",null,\"249456413\",null,\"0.5\",null,\"1.0\",null,\"0.6\",null,\"1.1\",null,\"1\"],\n",
      "[\"Total for all sectors\",\"Total\",\"Total\",\"Total\",\"Total\",\"630\",\"Firms with 10 to 19 employees\",\"2018\",\"611926\",null,\"1397607709\",null,\"8242749\",null,\"335750963\",null,\"0.8\",null,\"1.8\",null,\"0.8\",null,\"0.8\",null,\"1\"],\n",
      "[\"Total for all sectors\",\"Total\",\"Total\",\"Total\",\"Total\",\"641\",\"Firms with 20 to 49 employees\",\"2018\",\"402704\",null,\"2421677332\",null,\"12161051\",null,\"526534406\",null,\"1.3\",null,\"5.0\",null,\"1.3\",null,\"1.4\",null,\"1\"],\n",
      "[\"Total for all sectors\",\"Total\",\"Total\",\"Total\",\"Total\",\"642\",\"Firms with 50 to 99 employees\",\"2018\",\"124334\",null,\"2212008509\",null,\"8533853\",null,\"406406856\",null,\"2.5\",null,\"7.5\",null,\"2.4\",null,\"2.8\",null,\"1\"],\n",
      "[\"Total for all sectors\",\"Total\",\"Total\",\"Total\",\"Total\",\"651\",\"Firms with 100 to 249 employees\",\"2018\",\"71081\",null,\"3208386734\",null,\"10657260\",null,\"550771515\",null,\"3.7\",null,\"6.6\",null,\"3.6\",null,\"4.5\",null,\"1\"],\n",
      "[\"Total for all sectors\",\"Total\",\"Total\",\"Total\",\"Total\",\"652\",\"Firms with 250 to 499 employees\",\"2018\",\"21488\",null,\"2178757220\",null,\"7491988\",null,\"398130293\",null,\"4.4\",null,\"7.8\",null,\"4.4\",null,\"7.0\",null,\"1\"],\n",
      "[\"Total for all sectors\",\"Total\",\"Total\",\"Total\",\"Total\",\"657\",\"Firms with 500 employees or more\",\"2018\",\"20149\",null,\"24343394355\",null,\"69231676\",null,\"4194750376\",null,\"1.9\",null,\"0.7\",null,\"0.6\",null,\"0.6\",null,\"1\"]]>\n"
     ]
    }
   ],
   "source": [
    "response = requests.get(website)\n",
    "soup = BeautifulSoup(response.content, 'html.parser')\n",
    "print(soup.prettify)"
   ]
  },
  {
   "cell_type": "code",
   "execution_count": null,
   "id": "abaccb24",
   "metadata": {},
   "outputs": [],
   "source": []
  }
 ],
 "metadata": {
  "kernelspec": {
   "display_name": "Python 3 (ipykernel)",
   "language": "python",
   "name": "python3"
  },
  "language_info": {
   "codemirror_mode": {
    "name": "ipython",
    "version": 3
   },
   "file_extension": ".py",
   "mimetype": "text/x-python",
   "name": "python",
   "nbconvert_exporter": "python",
   "pygments_lexer": "ipython3",
   "version": "3.9.13"
  }
 },
 "nbformat": 4,
 "nbformat_minor": 5
}
