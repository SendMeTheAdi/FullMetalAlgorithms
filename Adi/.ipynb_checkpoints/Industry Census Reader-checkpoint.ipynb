{
 "cells": [
  {
   "cell_type": "markdown",
   "id": "f2724d82",
   "metadata": {},
   "source": [
    "# Adi's Notebook"
   ]
  },
  {
   "cell_type": "code",
   "execution_count": 58,
   "id": "2781471a",
   "metadata": {},
   "outputs": [],
   "source": [
    "import pandas as pd\n",
    "from bs4 import BeautifulSoup\n",
    "import requests\n",
    "import matplotlib.pyplot as plt\n",
    "import seaborn as sns\n",
    "import squarify\n",
    "import plotly.express as px"
   ]
  },
  {
   "cell_type": "markdown",
   "id": "fd61f0c5",
   "metadata": {},
   "source": [
    "### READ IN DATA"
   ]
  },
  {
   "cell_type": "code",
   "execution_count": 4,
   "id": "abaccb24",
   "metadata": {},
   "outputs": [],
   "source": [
    "emp_size_df = pd.read_csv('../data/firm_employment_size.csv')"
   ]
  },
  {
   "cell_type": "code",
   "execution_count": 5,
   "id": "e1d6de02",
   "metadata": {},
   "outputs": [
    {
     "data": {
      "text/html": [
       "<div>\n",
       "<style scoped>\n",
       "    .dataframe tbody tr th:only-of-type {\n",
       "        vertical-align: middle;\n",
       "    }\n",
       "\n",
       "    .dataframe tbody tr th {\n",
       "        vertical-align: top;\n",
       "    }\n",
       "\n",
       "    .dataframe thead th {\n",
       "        text-align: right;\n",
       "    }\n",
       "</style>\n",
       "<table border=\"1\" class=\"dataframe\">\n",
       "  <thead>\n",
       "    <tr style=\"text-align: right;\">\n",
       "      <th></th>\n",
       "      <th>Unnamed: 0</th>\n",
       "      <th>GEO_ID</th>\n",
       "      <th>NAME</th>\n",
       "      <th>NAICS2017</th>\n",
       "      <th>NAICS2017_LABEL</th>\n",
       "      <th>SEX</th>\n",
       "      <th>SEX_LABEL</th>\n",
       "      <th>ETH_GROUP</th>\n",
       "      <th>ETH_GROUP_LABEL</th>\n",
       "      <th>RACE_GROUP</th>\n",
       "      <th>...</th>\n",
       "      <th>VET_GROUP</th>\n",
       "      <th>VET_GROUP_LABEL</th>\n",
       "      <th>EMPSZFI</th>\n",
       "      <th>EMPSZFI_LABEL</th>\n",
       "      <th>YEAR</th>\n",
       "      <th>FIRMPDEMP</th>\n",
       "      <th>RCPPDEMP</th>\n",
       "      <th>EMP</th>\n",
       "      <th>PAYANN</th>\n",
       "      <th>Unnamed: 33</th>\n",
       "    </tr>\n",
       "  </thead>\n",
       "  <tbody>\n",
       "    <tr>\n",
       "      <th>0</th>\n",
       "      <td>0</td>\n",
       "      <td>Geographic identifier code</td>\n",
       "      <td>Geographic Area Name</td>\n",
       "      <td>2017 NAICS code</td>\n",
       "      <td>Meaning of NAICS code</td>\n",
       "      <td>Sex code</td>\n",
       "      <td>Meaning of Sex code</td>\n",
       "      <td>Ethnicity code</td>\n",
       "      <td>Meaning of Ethnicity code</td>\n",
       "      <td>Race code</td>\n",
       "      <td>...</td>\n",
       "      <td>Veteran code</td>\n",
       "      <td>Meaning of Veteran code</td>\n",
       "      <td>Employment size of firms code</td>\n",
       "      <td>Meaning of Employment size of firms code</td>\n",
       "      <td>Year</td>\n",
       "      <td>Number of employer firms</td>\n",
       "      <td>Sales, value of shipments, or revenue of emplo...</td>\n",
       "      <td>Number of employees</td>\n",
       "      <td>Annual payroll ($1,000)</td>\n",
       "      <td>NaN</td>\n",
       "    </tr>\n",
       "    <tr>\n",
       "      <th>1</th>\n",
       "      <td>1</td>\n",
       "      <td>0100000US</td>\n",
       "      <td>United States</td>\n",
       "      <td>00</td>\n",
       "      <td>Total for all sectors</td>\n",
       "      <td>001</td>\n",
       "      <td>Total</td>\n",
       "      <td>001</td>\n",
       "      <td>Total</td>\n",
       "      <td>00</td>\n",
       "      <td>...</td>\n",
       "      <td>001</td>\n",
       "      <td>Total</td>\n",
       "      <td>611</td>\n",
       "      <td>Firms with no employees</td>\n",
       "      <td>2019</td>\n",
       "      <td>730078</td>\n",
       "      <td>298164421</td>\n",
       "      <td>0</td>\n",
       "      <td>50074562</td>\n",
       "      <td>NaN</td>\n",
       "    </tr>\n",
       "    <tr>\n",
       "      <th>2</th>\n",
       "      <td>2</td>\n",
       "      <td>0100000US</td>\n",
       "      <td>United States</td>\n",
       "      <td>00</td>\n",
       "      <td>Total for all sectors</td>\n",
       "      <td>001</td>\n",
       "      <td>Total</td>\n",
       "      <td>001</td>\n",
       "      <td>Total</td>\n",
       "      <td>00</td>\n",
       "      <td>...</td>\n",
       "      <td>001</td>\n",
       "      <td>Total</td>\n",
       "      <td>612</td>\n",
       "      <td>Firms with 1 to 4 employees</td>\n",
       "      <td>2019</td>\n",
       "      <td>2826849</td>\n",
       "      <td>1266736429</td>\n",
       "      <td>5632339</td>\n",
       "      <td>233431702</td>\n",
       "      <td>NaN</td>\n",
       "    </tr>\n",
       "    <tr>\n",
       "      <th>3</th>\n",
       "      <td>3</td>\n",
       "      <td>0100000US</td>\n",
       "      <td>United States</td>\n",
       "      <td>00</td>\n",
       "      <td>Total for all sectors</td>\n",
       "      <td>001</td>\n",
       "      <td>Total</td>\n",
       "      <td>001</td>\n",
       "      <td>Total</td>\n",
       "      <td>00</td>\n",
       "      <td>...</td>\n",
       "      <td>001</td>\n",
       "      <td>Total</td>\n",
       "      <td>620</td>\n",
       "      <td>Firms with 5 to 9 employees</td>\n",
       "      <td>2019</td>\n",
       "      <td>959641</td>\n",
       "      <td>1142368704</td>\n",
       "      <td>6329828</td>\n",
       "      <td>257601290</td>\n",
       "      <td>NaN</td>\n",
       "    </tr>\n",
       "    <tr>\n",
       "      <th>4</th>\n",
       "      <td>4</td>\n",
       "      <td>0100000US</td>\n",
       "      <td>United States</td>\n",
       "      <td>00</td>\n",
       "      <td>Total for all sectors</td>\n",
       "      <td>001</td>\n",
       "      <td>Total</td>\n",
       "      <td>001</td>\n",
       "      <td>Total</td>\n",
       "      <td>00</td>\n",
       "      <td>...</td>\n",
       "      <td>001</td>\n",
       "      <td>Total</td>\n",
       "      <td>630</td>\n",
       "      <td>Firms with 10 to 19 employees</td>\n",
       "      <td>2019</td>\n",
       "      <td>609335</td>\n",
       "      <td>1440258482</td>\n",
       "      <td>8211284</td>\n",
       "      <td>347772825</td>\n",
       "      <td>NaN</td>\n",
       "    </tr>\n",
       "  </tbody>\n",
       "</table>\n",
       "<p>5 rows × 21 columns</p>\n",
       "</div>"
      ],
      "text/plain": [
       "   Unnamed: 0                      GEO_ID                  NAME  \\\n",
       "0           0  Geographic identifier code  Geographic Area Name   \n",
       "1           1                   0100000US         United States   \n",
       "2           2                   0100000US         United States   \n",
       "3           3                   0100000US         United States   \n",
       "4           4                   0100000US         United States   \n",
       "\n",
       "         NAICS2017        NAICS2017_LABEL       SEX            SEX_LABEL  \\\n",
       "0  2017 NAICS code  Meaning of NAICS code  Sex code  Meaning of Sex code   \n",
       "1               00  Total for all sectors       001                Total   \n",
       "2               00  Total for all sectors       001                Total   \n",
       "3               00  Total for all sectors       001                Total   \n",
       "4               00  Total for all sectors       001                Total   \n",
       "\n",
       "        ETH_GROUP            ETH_GROUP_LABEL RACE_GROUP  ...     VET_GROUP  \\\n",
       "0  Ethnicity code  Meaning of Ethnicity code  Race code  ...  Veteran code   \n",
       "1             001                      Total         00  ...           001   \n",
       "2             001                      Total         00  ...           001   \n",
       "3             001                      Total         00  ...           001   \n",
       "4             001                      Total         00  ...           001   \n",
       "\n",
       "           VET_GROUP_LABEL                        EMPSZFI  \\\n",
       "0  Meaning of Veteran code  Employment size of firms code   \n",
       "1                    Total                            611   \n",
       "2                    Total                            612   \n",
       "3                    Total                            620   \n",
       "4                    Total                            630   \n",
       "\n",
       "                              EMPSZFI_LABEL  YEAR                 FIRMPDEMP  \\\n",
       "0  Meaning of Employment size of firms code  Year  Number of employer firms   \n",
       "1                   Firms with no employees  2019                    730078   \n",
       "2               Firms with 1 to 4 employees  2019                   2826849   \n",
       "3               Firms with 5 to 9 employees  2019                    959641   \n",
       "4             Firms with 10 to 19 employees  2019                    609335   \n",
       "\n",
       "                                            RCPPDEMP                  EMP  \\\n",
       "0  Sales, value of shipments, or revenue of emplo...  Number of employees   \n",
       "1                                          298164421                    0   \n",
       "2                                         1266736429              5632339   \n",
       "3                                         1142368704              6329828   \n",
       "4                                         1440258482              8211284   \n",
       "\n",
       "                    PAYANN Unnamed: 33  \n",
       "0  Annual payroll ($1,000)         NaN  \n",
       "1                 50074562         NaN  \n",
       "2                233431702         NaN  \n",
       "3                257601290         NaN  \n",
       "4                347772825         NaN  \n",
       "\n",
       "[5 rows x 21 columns]"
      ]
     },
     "execution_count": 5,
     "metadata": {},
     "output_type": "execute_result"
    }
   ],
   "source": [
    "emp_size_df.head()"
   ]
  },
  {
   "cell_type": "code",
   "execution_count": 7,
   "id": "7129cab2",
   "metadata": {},
   "outputs": [
    {
     "data": {
      "text/plain": [
       "Index(['Unnamed: 0', 'GEO_ID', 'NAME', 'NAICS2017', 'NAICS2017_LABEL', 'SEX',\n",
       "       'SEX_LABEL', 'ETH_GROUP', 'ETH_GROUP_LABEL', 'RACE_GROUP',\n",
       "       'RACE_GROUP_LABEL', 'VET_GROUP', 'VET_GROUP_LABEL', 'EMPSZFI',\n",
       "       'EMPSZFI_LABEL', 'YEAR', 'FIRMPDEMP', 'RCPPDEMP', 'EMP', 'PAYANN',\n",
       "       'Unnamed: 33'],\n",
       "      dtype='object')"
      ]
     },
     "execution_count": 7,
     "metadata": {},
     "output_type": "execute_result"
    }
   ],
   "source": [
    "emp_size_df.columns"
   ]
  },
  {
   "cell_type": "markdown",
   "id": "3594e8a2",
   "metadata": {},
   "source": [
    "### DROP UNECESSARY COLUMNS"
   ]
  },
  {
   "cell_type": "code",
   "execution_count": 9,
   "id": "94a23a60",
   "metadata": {},
   "outputs": [],
   "source": [
    "emp_size_df.drop(['Unnamed: 0', 'GEO_ID', 'NAME', 'NAICS2017', 'SEX', 'ETH_GROUP', 'RACE_GROUP', 'VET_GROUP', \\\n",
    "                  'VET_GROUP_LABEL', 'EMPSZFI', 'YEAR', 'FIRMPDEMP', 'RCPPDEMP', 'Unnamed: 33'], axis=1, inplace=True)"
   ]
  },
  {
   "cell_type": "code",
   "execution_count": 10,
   "id": "a37a1671",
   "metadata": {},
   "outputs": [
    {
     "data": {
      "text/html": [
       "<div>\n",
       "<style scoped>\n",
       "    .dataframe tbody tr th:only-of-type {\n",
       "        vertical-align: middle;\n",
       "    }\n",
       "\n",
       "    .dataframe tbody tr th {\n",
       "        vertical-align: top;\n",
       "    }\n",
       "\n",
       "    .dataframe thead th {\n",
       "        text-align: right;\n",
       "    }\n",
       "</style>\n",
       "<table border=\"1\" class=\"dataframe\">\n",
       "  <thead>\n",
       "    <tr style=\"text-align: right;\">\n",
       "      <th></th>\n",
       "      <th>NAICS2017_LABEL</th>\n",
       "      <th>SEX_LABEL</th>\n",
       "      <th>ETH_GROUP_LABEL</th>\n",
       "      <th>RACE_GROUP_LABEL</th>\n",
       "      <th>EMPSZFI_LABEL</th>\n",
       "      <th>EMP</th>\n",
       "      <th>PAYANN</th>\n",
       "    </tr>\n",
       "  </thead>\n",
       "  <tbody>\n",
       "    <tr>\n",
       "      <th>0</th>\n",
       "      <td>Meaning of NAICS code</td>\n",
       "      <td>Meaning of Sex code</td>\n",
       "      <td>Meaning of Ethnicity code</td>\n",
       "      <td>Meaning of Race code</td>\n",
       "      <td>Meaning of Employment size of firms code</td>\n",
       "      <td>Number of employees</td>\n",
       "      <td>Annual payroll ($1,000)</td>\n",
       "    </tr>\n",
       "    <tr>\n",
       "      <th>1</th>\n",
       "      <td>Total for all sectors</td>\n",
       "      <td>Total</td>\n",
       "      <td>Total</td>\n",
       "      <td>Total</td>\n",
       "      <td>Firms with no employees</td>\n",
       "      <td>0</td>\n",
       "      <td>50074562</td>\n",
       "    </tr>\n",
       "    <tr>\n",
       "      <th>2</th>\n",
       "      <td>Total for all sectors</td>\n",
       "      <td>Total</td>\n",
       "      <td>Total</td>\n",
       "      <td>Total</td>\n",
       "      <td>Firms with 1 to 4 employees</td>\n",
       "      <td>5632339</td>\n",
       "      <td>233431702</td>\n",
       "    </tr>\n",
       "    <tr>\n",
       "      <th>3</th>\n",
       "      <td>Total for all sectors</td>\n",
       "      <td>Total</td>\n",
       "      <td>Total</td>\n",
       "      <td>Total</td>\n",
       "      <td>Firms with 5 to 9 employees</td>\n",
       "      <td>6329828</td>\n",
       "      <td>257601290</td>\n",
       "    </tr>\n",
       "    <tr>\n",
       "      <th>4</th>\n",
       "      <td>Total for all sectors</td>\n",
       "      <td>Total</td>\n",
       "      <td>Total</td>\n",
       "      <td>Total</td>\n",
       "      <td>Firms with 10 to 19 employees</td>\n",
       "      <td>8211284</td>\n",
       "      <td>347772825</td>\n",
       "    </tr>\n",
       "  </tbody>\n",
       "</table>\n",
       "</div>"
      ],
      "text/plain": [
       "         NAICS2017_LABEL            SEX_LABEL            ETH_GROUP_LABEL  \\\n",
       "0  Meaning of NAICS code  Meaning of Sex code  Meaning of Ethnicity code   \n",
       "1  Total for all sectors                Total                      Total   \n",
       "2  Total for all sectors                Total                      Total   \n",
       "3  Total for all sectors                Total                      Total   \n",
       "4  Total for all sectors                Total                      Total   \n",
       "\n",
       "       RACE_GROUP_LABEL                             EMPSZFI_LABEL  \\\n",
       "0  Meaning of Race code  Meaning of Employment size of firms code   \n",
       "1                 Total                   Firms with no employees   \n",
       "2                 Total               Firms with 1 to 4 employees   \n",
       "3                 Total               Firms with 5 to 9 employees   \n",
       "4                 Total             Firms with 10 to 19 employees   \n",
       "\n",
       "                   EMP                   PAYANN  \n",
       "0  Number of employees  Annual payroll ($1,000)  \n",
       "1                    0                 50074562  \n",
       "2              5632339                233431702  \n",
       "3              6329828                257601290  \n",
       "4              8211284                347772825  "
      ]
     },
     "execution_count": 10,
     "metadata": {},
     "output_type": "execute_result"
    }
   ],
   "source": [
    "emp_size_df.head()"
   ]
  },
  {
   "cell_type": "markdown",
   "id": "0d2aefc0",
   "metadata": {},
   "source": [
    "##### DROP FIRST ROW"
   ]
  },
  {
   "cell_type": "code",
   "execution_count": 11,
   "id": "39bedcba",
   "metadata": {},
   "outputs": [],
   "source": [
    "emp_size_df.drop(index=0, inplace=True)"
   ]
  },
  {
   "cell_type": "code",
   "execution_count": 12,
   "id": "2f88b2a8",
   "metadata": {},
   "outputs": [
    {
     "data": {
      "text/html": [
       "<div>\n",
       "<style scoped>\n",
       "    .dataframe tbody tr th:only-of-type {\n",
       "        vertical-align: middle;\n",
       "    }\n",
       "\n",
       "    .dataframe tbody tr th {\n",
       "        vertical-align: top;\n",
       "    }\n",
       "\n",
       "    .dataframe thead th {\n",
       "        text-align: right;\n",
       "    }\n",
       "</style>\n",
       "<table border=\"1\" class=\"dataframe\">\n",
       "  <thead>\n",
       "    <tr style=\"text-align: right;\">\n",
       "      <th></th>\n",
       "      <th>NAICS2017_LABEL</th>\n",
       "      <th>SEX_LABEL</th>\n",
       "      <th>ETH_GROUP_LABEL</th>\n",
       "      <th>RACE_GROUP_LABEL</th>\n",
       "      <th>EMPSZFI_LABEL</th>\n",
       "      <th>EMP</th>\n",
       "      <th>PAYANN</th>\n",
       "    </tr>\n",
       "  </thead>\n",
       "  <tbody>\n",
       "    <tr>\n",
       "      <th>1</th>\n",
       "      <td>Total for all sectors</td>\n",
       "      <td>Total</td>\n",
       "      <td>Total</td>\n",
       "      <td>Total</td>\n",
       "      <td>Firms with no employees</td>\n",
       "      <td>0</td>\n",
       "      <td>50074562</td>\n",
       "    </tr>\n",
       "    <tr>\n",
       "      <th>2</th>\n",
       "      <td>Total for all sectors</td>\n",
       "      <td>Total</td>\n",
       "      <td>Total</td>\n",
       "      <td>Total</td>\n",
       "      <td>Firms with 1 to 4 employees</td>\n",
       "      <td>5632339</td>\n",
       "      <td>233431702</td>\n",
       "    </tr>\n",
       "    <tr>\n",
       "      <th>3</th>\n",
       "      <td>Total for all sectors</td>\n",
       "      <td>Total</td>\n",
       "      <td>Total</td>\n",
       "      <td>Total</td>\n",
       "      <td>Firms with 5 to 9 employees</td>\n",
       "      <td>6329828</td>\n",
       "      <td>257601290</td>\n",
       "    </tr>\n",
       "    <tr>\n",
       "      <th>4</th>\n",
       "      <td>Total for all sectors</td>\n",
       "      <td>Total</td>\n",
       "      <td>Total</td>\n",
       "      <td>Total</td>\n",
       "      <td>Firms with 10 to 19 employees</td>\n",
       "      <td>8211284</td>\n",
       "      <td>347772825</td>\n",
       "    </tr>\n",
       "    <tr>\n",
       "      <th>5</th>\n",
       "      <td>Total for all sectors</td>\n",
       "      <td>Total</td>\n",
       "      <td>Total</td>\n",
       "      <td>Total</td>\n",
       "      <td>Firms with 20 to 49 employees</td>\n",
       "      <td>12230321</td>\n",
       "      <td>540126965</td>\n",
       "    </tr>\n",
       "  </tbody>\n",
       "</table>\n",
       "</div>"
      ],
      "text/plain": [
       "         NAICS2017_LABEL SEX_LABEL ETH_GROUP_LABEL RACE_GROUP_LABEL  \\\n",
       "1  Total for all sectors     Total           Total            Total   \n",
       "2  Total for all sectors     Total           Total            Total   \n",
       "3  Total for all sectors     Total           Total            Total   \n",
       "4  Total for all sectors     Total           Total            Total   \n",
       "5  Total for all sectors     Total           Total            Total   \n",
       "\n",
       "                   EMPSZFI_LABEL       EMP     PAYANN  \n",
       "1        Firms with no employees         0   50074562  \n",
       "2    Firms with 1 to 4 employees   5632339  233431702  \n",
       "3    Firms with 5 to 9 employees   6329828  257601290  \n",
       "4  Firms with 10 to 19 employees   8211284  347772825  \n",
       "5  Firms with 20 to 49 employees  12230321  540126965  "
      ]
     },
     "execution_count": 12,
     "metadata": {},
     "output_type": "execute_result"
    }
   ],
   "source": [
    "emp_size_df.head()"
   ]
  },
  {
   "cell_type": "code",
   "execution_count": 15,
   "id": "1f3072e2",
   "metadata": {},
   "outputs": [
    {
     "data": {
      "text/plain": [
       "Total                            10386\n",
       "Non-Hispanic                      2096\n",
       "Hispanic                          1477\n",
       "Equally Hispanic/non-Hispanic      979\n",
       "Classifiable                       189\n",
       "Unclassifiable                     184\n",
       "Name: ETH_GROUP_LABEL, dtype: int64"
      ]
     },
     "execution_count": 15,
     "metadata": {},
     "output_type": "execute_result"
    }
   ],
   "source": [
    "emp_size_df['ETH_GROUP_LABEL'].value_counts()"
   ]
  },
  {
   "cell_type": "code",
   "execution_count": 16,
   "id": "4569b008",
   "metadata": {},
   "outputs": [
    {
     "data": {
      "text/plain": [
       "Total                                         5701\n",
       "White                                         1819\n",
       "Nonminority                                   1296\n",
       "Asian                                         1246\n",
       "Black or African American                     1204\n",
       "Minority                                      1123\n",
       "American Indian and Alaska Native              974\n",
       "Equally minority/nonminority                   885\n",
       "Native Hawaiian and Other Pacific Islander     690\n",
       "Classifiable                                   189\n",
       "Unclassifiable                                 184\n",
       "Name: RACE_GROUP_LABEL, dtype: int64"
      ]
     },
     "execution_count": 16,
     "metadata": {},
     "output_type": "execute_result"
    }
   ],
   "source": [
    "emp_size_df['RACE_GROUP_LABEL'].value_counts()"
   ]
  },
  {
   "cell_type": "markdown",
   "id": "2f644a6c",
   "metadata": {},
   "source": [
    "### CLEAN UP RACE COLUMN"
   ]
  },
  {
   "cell_type": "code",
   "execution_count": 17,
   "id": "34b43c42",
   "metadata": {},
   "outputs": [],
   "source": [
    "emp_size_df = emp_size_df[emp_size_df.RACE_GROUP_LABEL != 'Unclassifiable']"
   ]
  },
  {
   "cell_type": "code",
   "execution_count": 19,
   "id": "b068b43d",
   "metadata": {},
   "outputs": [],
   "source": [
    "emp_size_df = emp_size_df[emp_size_df.RACE_GROUP_LABEL != 'Classifiable']"
   ]
  },
  {
   "cell_type": "code",
   "execution_count": 20,
   "id": "2ac260d2",
   "metadata": {},
   "outputs": [],
   "source": [
    "emp_size_df = emp_size_df[emp_size_df.RACE_GROUP_LABEL != 'Equally minority/nonminority']"
   ]
  },
  {
   "cell_type": "code",
   "execution_count": 21,
   "id": "3a705d22",
   "metadata": {},
   "outputs": [],
   "source": [
    "emp_size_df = emp_size_df[emp_size_df.RACE_GROUP_LABEL != 'Nonminority']"
   ]
  },
  {
   "cell_type": "code",
   "execution_count": 24,
   "id": "fabceb6a",
   "metadata": {},
   "outputs": [],
   "source": [
    "emp_size_df = emp_size_df[emp_size_df.RACE_GROUP_LABEL != 'Minority']"
   ]
  },
  {
   "cell_type": "code",
   "execution_count": 81,
   "id": "bdedd8b1",
   "metadata": {},
   "outputs": [],
   "source": [
    "emp_size_df = emp_size_df[emp_size_df.RACE_GROUP_LABEL != 'Total']"
   ]
  },
  {
   "cell_type": "code",
   "execution_count": 82,
   "id": "d1f2c710",
   "metadata": {},
   "outputs": [
    {
     "data": {
      "text/plain": [
       "White                                         1750\n",
       "Asian                                         1216\n",
       "Black or African American                     1171\n",
       "American Indian and Alaska Native              958\n",
       "Native Hawaiian and Other Pacific Islander     675\n",
       "Name: RACE_GROUP_LABEL, dtype: int64"
      ]
     },
     "execution_count": 82,
     "metadata": {},
     "output_type": "execute_result"
    }
   ],
   "source": [
    "emp_size_df['RACE_GROUP_LABEL'].value_counts()"
   ]
  },
  {
   "cell_type": "markdown",
   "id": "dfbb3a8d",
   "metadata": {},
   "source": [
    "### CLEAN INDUSTRY COLUMN"
   ]
  },
  {
   "cell_type": "code",
   "execution_count": 27,
   "id": "de0a77a5",
   "metadata": {},
   "outputs": [
    {
     "data": {
      "text/plain": [
       "Total for all sectors                                                       736\n",
       "Professional, scientific, and technical services                            662\n",
       "Accommodation and food services                                             652\n",
       "Manufacturing                                                               645\n",
       "Administrative and support and waste management and remediation services    640\n",
       "Transportation and warehousing(661)                                         639\n",
       "Health care and social assistance                                           639\n",
       "Construction                                                                614\n",
       "Retail trade                                                                611\n",
       "Wholesale trade                                                             589\n",
       "Other services (except public administration)(663)                          568\n",
       "Information                                                                 560\n",
       "Real estate and rental and leasing                                          515\n",
       "Finance and insurance(662)                                                  504\n",
       "Arts, entertainment, and recreation                                         503\n",
       "Management of companies and enterprises                                     502\n",
       "Educational services                                                        492\n",
       "Mining, quarrying, and oil and gas extraction                               434\n",
       "Agriculture, forestry, fishing and hunting(660)                             433\n",
       "Utilities                                                                   350\n",
       "Industries not classified                                                   346\n",
       "Name: NAICS2017_LABEL, dtype: int64"
      ]
     },
     "execution_count": 27,
     "metadata": {},
     "output_type": "execute_result"
    }
   ],
   "source": [
    "emp_size_df['NAICS2017_LABEL'].value_counts()"
   ]
  },
  {
   "cell_type": "code",
   "execution_count": 28,
   "id": "017d7a6f",
   "metadata": {},
   "outputs": [],
   "source": [
    "emp_size_df = emp_size_df[emp_size_df.NAICS2017_LABEL != 'Industries not classified']"
   ]
  },
  {
   "cell_type": "code",
   "execution_count": 29,
   "id": "636fd321",
   "metadata": {},
   "outputs": [
    {
     "data": {
      "text/plain": [
       "Total for all sectors                                                       736\n",
       "Professional, scientific, and technical services                            662\n",
       "Accommodation and food services                                             652\n",
       "Manufacturing                                                               645\n",
       "Administrative and support and waste management and remediation services    640\n",
       "Health care and social assistance                                           639\n",
       "Transportation and warehousing(661)                                         639\n",
       "Construction                                                                614\n",
       "Retail trade                                                                611\n",
       "Wholesale trade                                                             589\n",
       "Other services (except public administration)(663)                          568\n",
       "Information                                                                 560\n",
       "Real estate and rental and leasing                                          515\n",
       "Finance and insurance(662)                                                  504\n",
       "Arts, entertainment, and recreation                                         503\n",
       "Management of companies and enterprises                                     502\n",
       "Educational services                                                        492\n",
       "Mining, quarrying, and oil and gas extraction                               434\n",
       "Agriculture, forestry, fishing and hunting(660)                             433\n",
       "Utilities                                                                   350\n",
       "Name: NAICS2017_LABEL, dtype: int64"
      ]
     },
     "execution_count": 29,
     "metadata": {},
     "output_type": "execute_result"
    }
   ],
   "source": [
    "emp_size_df['NAICS2017_LABEL'].value_counts()"
   ]
  },
  {
   "cell_type": "markdown",
   "id": "6b05ca1f",
   "metadata": {},
   "source": [
    "## INDUSTRY BREAKDOWN VISUAL"
   ]
  },
  {
   "cell_type": "code",
   "execution_count": 64,
   "id": "70f881a1",
   "metadata": {
    "scrolled": true
   },
   "outputs": [
    {
     "data": {
      "image/png": "[encoded data removed]",
      "text/plain": [
       "<Figure size 640x480 with 1 Axes>"
      ]
     },
     "metadata": {},
     "output_type": "display_data"
    }
   ],
   "source": [
    "industry_labels = emp_size_df[emp_size_df.NAICS2017_LABEL != 'Total for all sectors']\n",
    "industry_labels['NAICS2017_LABEL'].value_counts().plot(kind='barh')\n",
    "plt.title('Industry Breakdown')\n",
    "plt.xlabel('Number of Companies')\n",
    "plt.show()"
   ]
  },
  {
   "cell_type": "markdown",
   "id": "a20d9104",
   "metadata": {},
   "source": [
    "## RACIAL BREAKDOWN VISUAL"
   ]
  },
  {
   "cell_type": "code",
   "execution_count": 132,
   "id": "72050bfb",
   "metadata": {},
   "outputs": [
    {
     "data": {
      "image/png": "[encoded data removed]",
      "text/plain": [
       "<Figure size 640x480 with 1 Axes>"
      ]
     },
     "metadata": {},
     "output_type": "display_data"
    }
   ],
   "source": [
    "tmp2 = emp_size_df['RACE_GROUP_LABEL'].value_counts().plot(kind='barh')\n",
    "plt.title('Racial Breakdown of all Companies')\n",
    "plt.xlabel('Number of Companies')\n",
    "plt.show()"
   ]
  },
  {
   "cell_type": "markdown",
   "id": "7e140c85",
   "metadata": {},
   "source": [
    "## INDUSTRY RACIAL BREAKDOWN"
   ]
  },
  {
   "cell_type": "code",
   "execution_count": 127,
   "id": "26ccf61b",
   "metadata": {},
   "outputs": [
    {
     "name": "stdout",
     "output_type": "stream",
     "text": [
      "Enter the Industry you would like a racial breakdown for:Accommodation and food services\n"
     ]
    },
    {
     "data": {
      "image/png": "[encoded data removed]",
      "text/plain": [
       "<Figure size 640x480 with 1 Axes>"
      ]
     },
     "metadata": {},
     "output_type": "display_data"
    }
   ],
   "source": [
    "industry = str(input('Enter the Industry you would like a racial breakdown for:'))\n",
    "\n",
    "colors = ['#91DCEA', '#64CDCC', '#5FBB68', '#F9D23C', '#F9A729', '#FD6F30']\n",
    "tmp = emp_size_df[emp_size_df.NAICS2017_LABEL == industry]['RACE_GROUP_LABEL'].value_counts()\n",
    "race_groups = emp_size_df[emp_size_df.NAICS2017_LABEL == industry]['RACE_GROUP_LABEL'].unique()\n",
    "\n",
    "label = []\n",
    "for i in range(len(tmp)):\n",
    "    label.append(race_groups[i] + '\\n' + str(tmp[i]))\n",
    "\n",
    "squarify.plot(sizes = tmp, label = label, pad = 0.07, color = colors, text_kwargs={'fontsize':6})\n",
    "plt.title(f'{industry} Company by Race')\n",
    "plt.axis('off')\n",
    "plt.show()"
   ]
  },
  {
   "cell_type": "code",
   "execution_count": null,
   "id": "58a3546f",
   "metadata": {},
   "outputs": [],
   "source": []
  }
 ],
 "metadata": {
  "kernelspec": {
   "display_name": "Python 3 (ipykernel)",
   "language": "python",
   "name": "python3"
  },
  "language_info": {
   "codemirror_mode": {
    "name": "ipython",
    "version": 3
   },
   "file_extension": ".py",
   "mimetype": "text/x-python",
   "name": "python",
   "nbconvert_exporter": "python",
   "pygments_lexer": "ipython3",
   "version": "3.9.13"
  }
 },
 "nbformat": 4,
 "nbformat_minor": 5
}
